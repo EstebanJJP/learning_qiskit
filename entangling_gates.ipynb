{
 "cells": [
  {
   "attachments": {},
   "cell_type": "markdown",
   "metadata": {},
   "source": [
    "# Entangling gates"
   ]
  },
  {
   "attachments": {},
   "cell_type": "markdown",
   "metadata": {},
   "source": [
    "# The cx gate"
   ]
  },
  {
   "cell_type": "code",
   "execution_count": 2,
   "metadata": {},
   "outputs": [
    {
     "data": {
      "text/plain": [
       "'Statevector([1.+0.j, 0.+0.j, 0.+0.j, 0.+0.j],\\n            dims=(2, 2))'"
      ]
     },
     "execution_count": 2,
     "metadata": {},
     "output_type": "execute_result"
    }
   ],
   "source": [
    "from qiskit import QuantumCircuit\n",
    "from qiskit.quantum_info import Statevector\n",
    "\n",
    "qc = QuantumCircuit(2)\n",
    "\n",
    "# This calculates what the state vector of our qubits would be\n",
    "# after passing through the circuit 'qc'\n",
    "ket = Statevector(qc)\n",
    "\n",
    "# The code below writes down the state vector.\n",
    "# Since it's the last line in the cell, the cell will display it as output\n",
    "ket.draw()"
   ]
  },
  {
   "attachments": {},
   "cell_type": "markdown",
   "metadata": {},
   "source": [
    "The cx acts on two qubits, which are known as the 'control' and the 'target'. Let's first try using qubit 0 as control and qubit 1 as target and see what happens."
   ]
  },
  {
   "cell_type": "code",
   "execution_count": 3,
   "metadata": {},
   "outputs": [
    {
     "data": {
      "text/plain": [
       "'Statevector([1.+0.j, 0.+0.j, 0.+0.j, 0.+0.j],\\n            dims=(2, 2))'"
      ]
     },
     "execution_count": 3,
     "metadata": {},
     "output_type": "execute_result"
    }
   ],
   "source": [
    "qc.cx(0,1)\n",
    "\n",
    "ket = Statevector(qc)\n",
    "ket.draw()"
   ]
  },
  {
   "attachments": {},
   "cell_type": "markdown",
   "metadata": {},
   "source": [
    "This cx had no effect. The state remains.\n",
    "\n",
    "Now let's try it with the control and target reversed."
   ]
  },
  {
   "cell_type": "code",
   "execution_count": 4,
   "metadata": {},
   "outputs": [
    {
     "data": {
      "text/plain": [
       "'Statevector([1.+0.j, 0.+0.j, 0.+0.j, 0.+0.j],\\n            dims=(2, 2))'"
      ]
     },
     "execution_count": 4,
     "metadata": {},
     "output_type": "execute_result"
    }
   ],
   "source": [
    "qc.cx(1,0)\n",
    "\n",
    "ket = Statevector(qc)\n",
    "ket.draw()"
   ]
  },
  {
   "attachments": {},
   "cell_type": "markdown",
   "metadata": {},
   "source": [
    "This underwhelming performance from the cx is actually to be expected. We can interpret its action as being conditional on the state of the control qubit: if the control is in 0 state , the cx does nothing. If the control is in state 1, the cx performs an x on the target qubit."
   ]
  },
  {
   "attachments": {},
   "cell_type": "markdown",
   "metadata": {},
   "source": [
    "So if we want to see the cx do something, we need to flip the control qubit to the 1 state first."
   ]
  },
  {
   "cell_type": "code",
   "execution_count": 5,
   "metadata": {},
   "outputs": [
    {
     "data": {
      "text/plain": [
       "'Statevector([0.+0.j, 0.+0.j, 0.+0.j, 1.+0.j],\\n            dims=(2, 2))'"
      ]
     },
     "execution_count": 5,
     "metadata": {},
     "output_type": "execute_result"
    }
   ],
   "source": [
    "#Apply x on qubit 1 to change its state to 1\n",
    "qc.x(1)\n",
    "\n",
    "#Because our qubit control (1) is in state 1, the gate cx will execute an x over our target 0. \n",
    "qc.cx(1,0)\n",
    "\n",
    "ket = Statevector(qc)\n",
    "ket.draw()"
   ]
  },
  {
   "attachments": {},
   "cell_type": "markdown",
   "metadata": {},
   "source": [
    "So far, we have not yet seen any entanglement. That comes when the control qubit is not just a simple 0 or 1, but a superposition of the two. For example, suppose we have the  +0 state from before."
   ]
  },
  {
   "cell_type": "code",
   "execution_count": 6,
   "metadata": {},
   "outputs": [
    {
     "data": {
      "text/plain": [
       "'Statevector([0.70710678+0.j, 0.        +0.j, 0.70710678+0.j,\\n             0.        +0.j],\\n            dims=(2, 2))'"
      ]
     },
     "execution_count": 6,
     "metadata": {},
     "output_type": "execute_result"
    }
   ],
   "source": [
    "# Let's create a fresh quantum circuit\n",
    "qc = QuantumCircuit(2)\n",
    "\n",
    "qc.h(1) #hadamard gate to qubit 1, changing its state to +\n",
    "\n",
    "ket = Statevector(qc)\n",
    "ket.draw()"
   ]
  },
  {
   "attachments": {},
   "cell_type": "markdown",
   "metadata": {},
   "source": [
    "Now if we apply the cx, it will act in parallel on the two states. It will leave the 00 state unchanged, since the control qubit there is in state 0. But 10 has the control in state 1, so the target is flipped to make 11 the state. This is because the probability of turning into 1 is one half, but when this occurs the cx gates is activated over qubit 0. So our possibilities states changes. "
   ]
  },
  {
   "cell_type": "code",
   "execution_count": 7,
   "metadata": {},
   "outputs": [
    {
     "data": {
      "text/plain": [
       "'Statevector([0.70710678+0.j, 0.        +0.j, 0.        +0.j,\\n             0.70710678+0.j],\\n            dims=(2, 2))'"
      ]
     },
     "execution_count": 7,
     "metadata": {},
     "output_type": "execute_result"
    }
   ],
   "source": [
    "qc.cx(1,0)\n",
    "\n",
    "ket = Statevector(qc)\n",
    "ket.draw()"
   ]
  },
  {
   "attachments": {},
   "cell_type": "markdown",
   "metadata": {},
   "source": [
    "The result is the entangled state: phi+. The cx gate has created entanglement!!"
   ]
  },
  {
   "attachments": {},
   "cell_type": "markdown",
   "metadata": {},
   "source": [
    "# The cz gate"
   ]
  },
  {
   "attachments": {},
   "cell_type": "markdown",
   "metadata": {},
   "source": [
    "The cz is a gate whose effect is rather similar to the cx. It also acts on two qubits: the target and control. It also does nothing when the control qubit is in state 0. But for the control state 1, it performs a z (*) to the target.\n",
    "\n",
    "Or at least, that is the standard interpretation of this gate. But if we think about it a little more, we can see that another interpretation is also possible.\n",
    "\n",
    "The z gate applied to a single qubit has the effect of doing nothing to 0, and giving a phase of -1 to the state 1. So for the cz gate, it only has any effect at all when both qubits are in state 1. It doesn't matter which we decided to label 'control' and 'target', the effect is the same. We could equally have defined it as the gate which does nothing when the target state is 0, and otherwise performs a z on the control.\n",
    "\n",
    "The fact that the same gate can be interpreted in two seemingly contradictory ways is just one expression of the interesting effects that we will see with entangled states."
   ]
  },
  {
   "attachments": {},
   "cell_type": "markdown",
   "metadata": {},
   "source": [
    "(*) The Pauli Z gate acts as identity on the ∣0⟩ state and multiplies the sign of the ∣1⟩ state by -1. It therefore flips the ∣+⟩ and ∣−⟩ states. In the +/- basis, it plays the same role as the NOT gate in the ∣0⟩/∣1⟩ basis."
   ]
  },
  {
   "cell_type": "code",
   "execution_count": 24,
   "metadata": {},
   "outputs": [
    {
     "data": {
      "text/plain": [
       "'Statevector([0.+0.j, 0.+0.j, 0.+0.j, 1.+0.j],\\n            dims=(2, 2))'"
      ]
     },
     "execution_count": 24,
     "metadata": {},
     "output_type": "execute_result"
    }
   ],
   "source": [
    "# Let's create a fresh quantum circuit\n",
    "qc = QuantumCircuit(2)\n",
    "\n",
    "qc.x(0)\n",
    "qc.x(1) #x gate to qubit 1, changing its state to 1\n",
    "\n",
    "ket = Statevector(qc)\n",
    "ket.draw()"
   ]
  },
  {
   "cell_type": "code",
   "execution_count": 25,
   "metadata": {},
   "outputs": [
    {
     "data": {
      "text/plain": [
       "'Statevector([ 0.+0.j,  0.+0.j,  0.+0.j, -1.+0.j],\\n            dims=(2, 2))'"
      ]
     },
     "execution_count": 25,
     "metadata": {},
     "output_type": "execute_result"
    }
   ],
   "source": [
    "qc.cz(1,0)\n",
    "\n",
    "ket = Statevector(qc)\n",
    "ket.draw()"
   ]
  },
  {
   "attachments": {},
   "cell_type": "markdown",
   "metadata": {},
   "source": [
    "# The cx gate revisited"
   ]
  },
  {
   "attachments": {},
   "cell_type": "markdown",
   "metadata": {},
   "source": [
    "The cx gate is also known as the controlled-X or controlled-NOT, due to its effect of flipping the target bit based on the state of the control. However, just as we saw with the cz gate, other interpretations are also possible.\n",
    "\n",
    "For example, let's start with the case where both qubits are in the  state +."
   ]
  },
  {
   "cell_type": "code",
   "execution_count": 26,
   "metadata": {},
   "outputs": [
    {
     "data": {
      "text/plain": [
       "'Statevector([0.5+0.j, 0.5+0.j, 0.5+0.j, 0.5+0.j],\\n            dims=(2, 2))'"
      ]
     },
     "execution_count": 26,
     "metadata": {},
     "output_type": "execute_result"
    }
   ],
   "source": [
    "qc = QuantumCircuit(2)\n",
    " #We use a hadamard gate to change the state of the two qubits to +.\n",
    "qc.h(0)\n",
    "qc.h(1)\n",
    "\n",
    "ket = Statevector(qc)\n",
    "ket.draw()"
   ]
  },
  {
   "cell_type": "code",
   "execution_count": 27,
   "metadata": {},
   "outputs": [
    {
     "data": {
      "text/plain": [
       "'Statevector([0.5+0.j, 0.5+0.j, 0.5+0.j, 0.5+0.j],\\n            dims=(2, 2))'"
      ]
     },
     "execution_count": 27,
     "metadata": {},
     "output_type": "execute_result"
    }
   ],
   "source": [
    "qc.cx(1,0)\n",
    "\n",
    "ket = Statevector(qc)\n",
    "ket.draw()"
   ]
  },
  {
   "attachments": {},
   "cell_type": "markdown",
   "metadata": {},
   "source": [
    "As we can see, the cx gate has no effect. This is beacause the x gate would activate half of the time over 11 and 10 qubits and change its results but the result will remain the same stadistically. However if we apply a z gate previously the result will change. We flip the target from + to - by using the z gate. "
   ]
  },
  {
   "cell_type": "code",
   "execution_count": 28,
   "metadata": {},
   "outputs": [
    {
     "data": {
      "text/plain": [
       "'Statevector([ 0.5+0.j, -0.5+0.j,  0.5+0.j, -0.5+0.j],\\n            dims=(2, 2))'"
      ]
     },
     "execution_count": 28,
     "metadata": {},
     "output_type": "execute_result"
    }
   ],
   "source": [
    "qc.z(0)\n",
    "\n",
    "ket = Statevector(qc)\n",
    "ket.draw()"
   ]
  },
  {
   "attachments": {},
   "cell_type": "markdown",
   "metadata": {},
   "source": [
    "We can see here how the vector change in 01 and 11 coordinates following the same rule that we explained before. "
   ]
  },
  {
   "cell_type": "code",
   "execution_count": 29,
   "metadata": {},
   "outputs": [
    {
     "data": {
      "text/plain": [
       "'Statevector([ 0.5+0.j, -0.5+0.j, -0.5+0.j,  0.5+0.j],\\n            dims=(2, 2))'"
      ]
     },
     "execution_count": 29,
     "metadata": {},
     "output_type": "execute_result"
    }
   ],
   "source": [
    "qc.cx(1,0)\n",
    "\n",
    "ket = Statevector(qc)\n",
    "ket.draw()"
   ]
  },
  {
   "attachments": {},
   "cell_type": "markdown",
   "metadata": {},
   "source": [
    "This effect is sometimes known as 'phase kickback': When there is a superposition on both the control and target qubits, some features of the target superposition can feed back into the control.\n",
    "\n",
    "This effect can also motivate us to make an alternative interpretation of the cx. We can think of it as applying a z to the control if the target is in state -, and do nothing if it is in state +. "
   ]
  },
  {
   "attachments": {},
   "cell_type": "markdown",
   "metadata": {},
   "source": [
    "# A example of entanglement capability"
   ]
  },
  {
   "attachments": {},
   "cell_type": "markdown",
   "metadata": {},
   "source": [
    "We'll now look at an example of entanglement in action using a protocol for quantum communication. Like quantum computation, this is based on manipulating qubits with quantum gates. But it also incorporates the idea of qubits being transmitted between different parties, and explores applications based on sending information rather than processing it.\n",
    "\n",
    "For classical communication there is a fundamental limit on how much information we can send with a given number of bits. By definition, we can send no more than n bits of information when we send n bits. For quantum information, much the same rule applies: no more than n bits of information can be reliably encoded and retrieved from n qubits. However, there are ways that we can push the boundaries to do things that are not possible classically, and for that we require entanglement. Here we will look at one such example, in which transferring one qubit can allow a two bit message to be sent.\n",
    "\n",
    "Suppose we have two people: Alice and Bob. Alice wishes to send a two bit message to Bob - 00, 01, 10 or 11 - and wants to do it by sending qubits.\n",
    "\n",
    "The simplest way to do this is with two qubits. Alice can simply use the qubits to encode the bit values, applying an x to flip them for a 1 state."
   ]
  },
  {
   "cell_type": "code",
   "execution_count": 33,
   "metadata": {},
   "outputs": [],
   "source": [
    "# The message\n",
    "MESSAGE = '00'\n",
    "\n",
    "# Alice encodes the message\n",
    "qc_alice = QuantumCircuit(2, 2)\n",
    "if MESSAGE[-1]=='1':\n",
    "    qc_alice.x(0)\n",
    "if MESSAGE[-2]=='1':\n",
    "    qc_alice.x(1)"
   ]
  },
  {
   "attachments": {},
   "cell_type": "markdown",
   "metadata": {},
   "source": [
    "After Alice sends the qubits to Bob, all he needs to do is measure them."
   ]
  },
  {
   "cell_type": "code",
   "execution_count": 34,
   "metadata": {},
   "outputs": [
    {
     "data": {
      "text/plain": [
       "{'10': 1024}"
      ]
     },
     "execution_count": 34,
     "metadata": {},
     "output_type": "execute_result"
    }
   ],
   "source": [
    "from qiskit import Aer\n",
    "backend = Aer.get_backend('aer_simulator')\n",
    "\n",
    "# Bob measures\n",
    "qc_bob = QuantumCircuit(2,2)\n",
    "qc_bob.measure([0,1],[0,1])\n",
    "\n",
    "backend.run(qc_alice.compose(qc_bob)).result().get_counts()"
   ]
  },
  {
   "attachments": {},
   "cell_type": "markdown",
   "metadata": {},
   "source": [
    "The result Bob gets out will be exactly what Alice put in.\n",
    "\n",
    "This protocol did not involve any entanglement. One way to insert it would be for Alice to add h and cx gates after encoding the information. Let's look at the states that are created by these gates."
   ]
  },
  {
   "cell_type": "code",
   "execution_count": 37,
   "metadata": {},
   "outputs": [
    {
     "data": {
      "text/plain": [
       "'Statevector([0.70710678+0.j, 0.        +0.j, 0.        +0.j,\\n             0.70710678+0.j],\\n            dims=(2, 2))'"
      ]
     },
     "execution_count": 37,
     "metadata": {},
     "output_type": "execute_result"
    }
   ],
   "source": [
    "MESSAGE = '00'\n",
    "\n",
    "qc_alice = QuantumCircuit(2,2)\n",
    "\n",
    "# Alice encodes the message\n",
    "if MESSAGE[-1]=='1':\n",
    "    qc_alice.x(0)\n",
    "if MESSAGE[-2]=='1':\n",
    "    qc_alice.x(1)\n",
    "\n",
    "# then she creates entangled states\n",
    "qc_alice.h(1)\n",
    "qc_alice.cx(1,0)\n",
    "\n",
    "ket = Statevector(qc_alice)\n",
    "ket.draw()"
   ]
  },
  {
   "cell_type": "code",
   "execution_count": 40,
   "metadata": {},
   "outputs": [
    {
     "data": {
      "text/html": [
       "<pre style=\"word-wrap: normal;white-space: pre;background: #fff0;line-height: 1.1;font-family: &quot;Courier New&quot;,Courier,monospace\">          ┌───┐\n",
       "q_0: ─────┤ X ├\n",
       "     ┌───┐└─┬─┘\n",
       "q_1: ┤ H ├──■──\n",
       "     └───┘     \n",
       "c: 2/══════════\n",
       "               </pre>"
      ],
      "text/plain": [
       "          ┌───┐\n",
       "q_0: ─────┤ X ├\n",
       "     ┌───┐└─┬─┘\n",
       "q_1: ┤ H ├──■──\n",
       "     └───┘     \n",
       "c: 2/══════════\n",
       "               "
      ]
     },
     "execution_count": 40,
     "metadata": {},
     "output_type": "execute_result"
    }
   ],
   "source": [
    "qc_alice.draw()"
   ]
  },
  {
   "attachments": {},
   "cell_type": "markdown",
   "metadata": {},
   "source": [
    "For a message 00, the state created by these gates is phi +. For the other messages we get other entangled states, know as phi -, psi + and psi -.\n",
    "When Bob receives these states he needs to disentangle them, by undoing the h and cx. Then he can measure and retrieve the message as before."
   ]
  },
  {
   "cell_type": "code",
   "execution_count": 38,
   "metadata": {},
   "outputs": [
    {
     "data": {
      "text/html": [
       "<pre style=\"word-wrap: normal;white-space: pre;background: #fff0;line-height: 1.1;font-family: &quot;Courier New&quot;,Courier,monospace\">     ┌───┐     ┌─┐   \n",
       "q_0: ┤ X ├─────┤M├───\n",
       "     └─┬─┘┌───┐└╥┘┌─┐\n",
       "q_1: ──■──┤ H ├─╫─┤M├\n",
       "          └───┘ ║ └╥┘\n",
       "c: 2/═══════════╩══╩═\n",
       "                0  1 </pre>"
      ],
      "text/plain": [
       "     ┌───┐     ┌─┐   \n",
       "q_0: ┤ X ├─────┤M├───\n",
       "     └─┬─┘┌───┐└╥┘┌─┐\n",
       "q_1: ──■──┤ H ├─╫─┤M├\n",
       "          └───┘ ║ └╥┘\n",
       "c: 2/═══════════╩══╩═\n",
       "                0  1 "
      ]
     },
     "execution_count": 38,
     "metadata": {},
     "output_type": "execute_result"
    }
   ],
   "source": [
    "qc_bob = QuantumCircuit(2,2)\n",
    "# Bob disentangles\n",
    "qc_bob.cx(1,0)\n",
    "qc_bob.h(1)\n",
    "# Then measures\n",
    "qc_bob.measure([0,1],[0,1])\n",
    "\n",
    "qc_bob.draw()"
   ]
  },
  {
   "cell_type": "code",
   "execution_count": 39,
   "metadata": {},
   "outputs": [
    {
     "data": {
      "text/plain": [
       "{'00': 1024}"
      ]
     },
     "execution_count": 39,
     "metadata": {},
     "output_type": "execute_result"
    }
   ],
   "source": [
    "backend.run(qc_alice.compose(qc_bob)).result().get_counts()"
   ]
  },
  {
   "attachments": {},
   "cell_type": "markdown",
   "metadata": {},
   "source": [
    "So here we used entangled states, but they didn't give us any advantages. For that we need to look at the relationship between these four entangled states.\n",
    "\n",
    "For example, the state phi + is a superposition of 00 and 11, whereas psi + is a superposition of 01 and 10. So a simple x gate on either qubit is sufficient to rotate a phi + into a psi +  and vice-versa. The same is true for rotating between phi - into psi -. Similarly the difference between phi + and phi - is simply the relative phase, which can be changed by a z on either qubit, and the same with psi + and psi -. So Alice could send her message by creating an entangled state first, and then changing it using x and z gates to encode the correct message.\n"
   ]
  },
  {
   "cell_type": "code",
   "execution_count": 41,
   "metadata": {},
   "outputs": [
    {
     "data": {
      "text/plain": [
       "'Statevector([0.70710678+0.j, 0.        +0.j, 0.        +0.j,\\n             0.70710678+0.j],\\n            dims=(2, 2))'"
      ]
     },
     "execution_count": 41,
     "metadata": {},
     "output_type": "execute_result"
    }
   ],
   "source": [
    "MESSAGE = '00'\n",
    "\n",
    "qc_alice = QuantumCircuit(2,2)\n",
    "qc_alice.h(1)\n",
    "qc_alice.cx(1,0)\n",
    "\n",
    "if MESSAGE[-2]=='1':\n",
    "    qc_alice.z(1)\n",
    "if MESSAGE[-1]=='1':\n",
    "    qc_alice.x(1)\n",
    "\n",
    "ket = Statevector(qc_alice)\n",
    "ket.draw()"
   ]
  },
  {
   "attachments": {},
   "cell_type": "markdown",
   "metadata": {},
   "source": [
    "Since Bob is receiving the same states as before, he doesn't need to change his circuit at all."
   ]
  },
  {
   "attachments": {},
   "cell_type": "markdown",
   "metadata": {},
   "source": [
    "The important thing to note here is that the x and z gates can be applied to just a single qubit (qubit 1 in this case). This means that Alice could send qubit 0 to Bob as soon as she has created the entangled pair. In fact, she could send it before she even knows what message she wants to send!\n",
    "\n",
    "This gets even more surprising if you imagine a third party, whose job is just to create phi + states and send the qubits out."
   ]
  },
  {
   "cell_type": "code",
   "execution_count": 42,
   "metadata": {},
   "outputs": [
    {
     "data": {
      "text/html": [
       "<pre style=\"word-wrap: normal;white-space: pre;background: #fff0;line-height: 1.1;font-family: &quot;Courier New&quot;,Courier,monospace\">          ┌───┐\n",
       "q_0: ─────┤ X ├\n",
       "     ┌───┐└─┬─┘\n",
       "q_1: ┤ H ├──■──\n",
       "     └───┘     \n",
       "c: 2/══════════\n",
       "               </pre>"
      ],
      "text/plain": [
       "          ┌───┐\n",
       "q_0: ─────┤ X ├\n",
       "     ┌───┐└─┬─┘\n",
       "q_1: ┤ H ├──■──\n",
       "     └───┘     \n",
       "c: 2/══════════\n",
       "               "
      ]
     },
     "execution_count": 42,
     "metadata": {},
     "output_type": "execute_result"
    }
   ],
   "source": [
    "qc_charlie = QuantumCircuit(2,2)\n",
    "\n",
    "qc_charlie.h(1)\n",
    "qc_charlie.cx(1,0)\n",
    "\n",
    "qc_charlie.draw()"
   ]
  },
  {
   "attachments": {},
   "cell_type": "markdown",
   "metadata": {},
   "source": [
    "This third party can directly send one qubit to Bob, and then the other to Alice. Alice can encode her two qubit message by manipulating just this single qubit, and send only this one qubit to Bob."
   ]
  },
  {
   "cell_type": "code",
   "execution_count": 43,
   "metadata": {},
   "outputs": [],
   "source": [
    "MESSAGE = '01'\n",
    "\n",
    "qc_alice = QuantumCircuit(2,2)\n",
    "\n",
    "if MESSAGE[-2]=='1':\n",
    "    qc_alice.z(1)\n",
    "if MESSAGE[-1]=='1':\n",
    "    qc_alice.x(1)"
   ]
  },
  {
   "attachments": {},
   "cell_type": "markdown",
   "metadata": {},
   "source": [
    "Now Bob can apply the same process as before and extract the message from his two qubits."
   ]
  },
  {
   "cell_type": "code",
   "execution_count": 44,
   "metadata": {},
   "outputs": [
    {
     "data": {
      "text/plain": [
       "{'01': 1024}"
      ]
     },
     "execution_count": 44,
     "metadata": {},
     "output_type": "execute_result"
    }
   ],
   "source": [
    "complete_qc = qc_charlie.compose(qc_alice.compose(qc_bob))\n",
    "backend.run(complete_qc).result().get_counts()"
   ]
  },
  {
   "attachments": {},
   "cell_type": "markdown",
   "metadata": {},
   "source": [
    "The end result of all this is that Alice sent two bits of information to Bob, and only had to send one qubit to do it. This was made possible by the fact that the qubit was part of an entangled pair. As such, while Alice was just applying gates to one qubit, she was manipulating the larger set of four possible states this entangled pair can be in.\n",
    "\n",
    "This serves as a simple example of how qubits can allow us to do things that normal bits cannot, and how entanglement is a crucial resource for this."
   ]
  },
  {
   "attachments": {},
   "cell_type": "markdown",
   "metadata": {},
   "source": [
    "# Measuring qubits"
   ]
  },
  {
   "attachments": {},
   "cell_type": "markdown",
   "metadata": {},
   "source": [
    "There are different ways of measuring qubits. \n",
    "\n",
    "    - X measurement: we apply a hadamard gate just before the measure. \n",
    "    - Z measuremente: we apply just the measure to the qubit. \n",
    "\n",
    " The state of the qubit affects on how deterministic can the measure be. For example:\n",
    "\n",
    "    - 0: x - random, z - 0\n",
    "    - 1: x - random, z - 1 \n",
    "    - +: x - 0     , z - random\n",
    "    - -: x - 1     , z - random\n",
    "\n",
    " For other gates that creates more complicates states the result of the measurement could be not deterministic but neither completele random. We could be able to see a tendency in the results given by the measurement. For example with the rotation of -pi/4 angle over a qubit in 0 state we can get:\n",
    "       - Results from z measurement: {'1': 153, '0': 871}\n",
    "      - Results from x measurement: {'0': 161, '1': 863}"
   ]
  }
 ],
 "metadata": {
  "kernelspec": {
   "display_name": "Python 3",
   "language": "python",
   "name": "python3"
  },
  "language_info": {
   "codemirror_mode": {
    "name": "ipython",
    "version": 3
   },
   "file_extension": ".py",
   "mimetype": "text/x-python",
   "name": "python",
   "nbconvert_exporter": "python",
   "pygments_lexer": "ipython3",
   "version": "3.9.6"
  },
  "orig_nbformat": 4
 },
 "nbformat": 4,
 "nbformat_minor": 2
}
