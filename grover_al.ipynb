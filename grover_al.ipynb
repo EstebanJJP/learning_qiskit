{
 "cells": [
  {
   "attachments": {},
   "cell_type": "markdown",
   "metadata": {},
   "source": [
    "# Grover's Algorithm"
   ]
  },
  {
   "attachments": {},
   "cell_type": "markdown",
   "metadata": {},
   "source": [
    "Algoritmo de Grover para 11. "
   ]
  },
  {
   "cell_type": "code",
   "execution_count": 24,
   "metadata": {},
   "outputs": [
    {
     "data": {
      "image/png": "[encoded data removed]",
      "text/plain": [
       "<Figure size 700x500 with 1 Axes>"
      ]
     },
     "execution_count": 24,
     "metadata": {},
     "output_type": "execute_result"
    }
   ],
   "source": [
    "from qiskit import QuantumCircuit, execute, Aer\n",
    "from qiskit.visualization import plot_histogram\n",
    "\n",
    "# Paso 1: Preparar el circuito cuántico\n",
    "num_qubits = 2\n",
    "grover_circuit = QuantumCircuit(num_qubits)\n",
    "\n",
    "# Paso 2: Aplicar compuertas Hadamard a todos los qubits\n",
    "grover_circuit.h(range(num_qubits))\n",
    "\n",
    "# Paso 3: Definir el oráculo para marcar la solución deseada\n",
    "# En este caso, marcamos el número 11\n",
    "def oracle(circuit):\n",
    "    circuit.cz(0, 1)  # Aplicar una compuerta controlada-Z entre el primer y segundo qubits\n",
    "\n",
    "# Paso 4: Definir el operador de difusión\n",
    "def difusion(circuit):\n",
    "    # Aplicar compuertas Hadamard a todos los qubits\n",
    "    circuit.h(range(num_qubits))\n",
    "    # Aplicar compuertas X a todos los qubits\n",
    "    circuit.x(range(num_qubits))\n",
    "    # Aplicar una compuerta controlada-Z entre el primer y segundo qubits\n",
    "    circuit.cz(0, 1)\n",
    "    # Aplicar compuertas X a todos los qubits\n",
    "    circuit.x(range(num_qubits))\n",
    "    # Aplicar compuertas Hadamard a todos los qubits\n",
    "    circuit.h(range(num_qubits))\n",
    "\n",
    "# Paso 5: Aplicar el oráculo y el operador de difusión \n",
    "oracle(grover_circuit)\n",
    "difusion(grover_circuit)\n",
    "\n",
    "# Paso 6: Medir los qubits\n",
    "grover_circuit.measure_all()\n",
    "\n",
    "# Paso 7: Simular el circuito utilizando un simulador clásico\n",
    "simulator = Aer.get_backend('aer_simulator')\n",
    "job = execute(grover_circuit, simulator, shots=1024)\n",
    "result = job.result()\n",
    "counts = result.get_counts(grover_circuit)\n",
    "\n",
    "# Paso 8: Mostrar los resultados de la medición\n",
    "plot_histogram(counts)\n"
   ]
  },
  {
   "cell_type": "code",
   "execution_count": 25,
   "metadata": {},
   "outputs": [
    {
     "data": {
      "text/html": [
       "<pre style=\"word-wrap: normal;white-space: pre;background: #fff0;line-height: 1.1;font-family: &quot;Courier New&quot;,Courier,monospace\">        ┌───┐   ┌───┐┌───┐   ┌───┐┌───┐ ░ ┌─┐   \n",
       "   q_0: ┤ H ├─■─┤ H ├┤ X ├─■─┤ X ├┤ H ├─░─┤M├───\n",
       "        ├───┤ │ ├───┤├───┤ │ ├───┤├───┤ ░ └╥┘┌─┐\n",
       "   q_1: ┤ H ├─■─┤ H ├┤ X ├─■─┤ X ├┤ H ├─░──╫─┤M├\n",
       "        └───┘   └───┘└───┘   └───┘└───┘ ░  ║ └╥┘\n",
       "meas: 2/═══════════════════════════════════╩══╩═\n",
       "                                           0  1 </pre>"
      ],
      "text/plain": [
       "        ┌───┐   ┌───┐┌───┐   ┌───┐┌───┐ ░ ┌─┐   \n",
       "   q_0: ┤ H ├─■─┤ H ├┤ X ├─■─┤ X ├┤ H ├─░─┤M├───\n",
       "        ├───┤ │ ├───┤├───┤ │ ├───┤├───┤ ░ └╥┘┌─┐\n",
       "   q_1: ┤ H ├─■─┤ H ├┤ X ├─■─┤ X ├┤ H ├─░──╫─┤M├\n",
       "        └───┘   └───┘└───┘   └───┘└───┘ ░  ║ └╥┘\n",
       "meas: 2/═══════════════════════════════════╩══╩═\n",
       "                                           0  1 "
      ]
     },
     "execution_count": 25,
     "metadata": {},
     "output_type": "execute_result"
    }
   ],
   "source": [
    "grover_circuit.draw()"
   ]
  },
  {
   "attachments": {},
   "cell_type": "markdown",
   "metadata": {},
   "source": []
  }
 ],
 "metadata": {
  "kernelspec": {
   "display_name": "Python 3",
   "language": "python",
   "name": "python3"
  },
  "language_info": {
   "codemirror_mode": {
    "name": "ipython",
    "version": 3
   },
   "file_extension": ".py",
   "mimetype": "text/x-python",
   "name": "python",
   "nbconvert_exporter": "python",
   "pygments_lexer": "ipython3",
   "version": "3.9.6"
  },
  "orig_nbformat": 4
 },
 "nbformat": 4,
 "nbformat_minor": 2
}
